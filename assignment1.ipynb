{
  "nbformat": 4,
  "nbformat_minor": 0,
  "metadata": {
    "colab": {
      "name": "assignment1.ipynb",
      "provenance": [],
      "collapsed_sections": [],
      "authorship_tag": "ABX9TyMVRXNqB7PReBaA1uANRX6+",
      "include_colab_link": true
    },
    "kernelspec": {
      "name": "python3",
      "display_name": "Python 3"
    },
    "language_info": {
      "name": "python"
    }
  },
  "cells": [
    {
      "cell_type": "markdown",
      "metadata": {
        "id": "view-in-github",
        "colab_type": "text"
      },
      "source": [
        "<a href=\"https://colab.research.google.com/github/1Bavyak/bavi/blob/main/assignment1.ipynb\" target=\"_parent\"><img src=\"https://colab.research.google.com/assets/colab-badge.svg\" alt=\"Open In Colab\"/></a>"
      ]
    },
    {
      "cell_type": "code",
      "metadata": {
        "id": "rrEaclQRS5mS",
        "colab": {
          "base_uri": "https://localhost:8080/"
        },
        "outputId": "a9a7ed52-781c-4505-9365-40535e03f2c2"
      },
      "source": [
        " \n",
        "#1) After running the following code, what does the variable bacon contain?\n",
        " \n",
        "bacon = 22\n",
        "bacon +1\n",
        "print(bacon)"
      ],
      "execution_count": null,
      "outputs": [
        {
          "output_type": "stream",
          "name": "stdout",
          "text": [
            "22\n"
          ]
        }
      ]
    },
    {
      "cell_type": "code",
      "metadata": {
        "id": "6nAwnIWmhxpG"
      },
      "source": [
        " \n",
        "2) What should the values of the following two terms be?\n",
        "Answer: Both will give the same result as 'spamspamspam'"
      ],
      "execution_count": null,
      "outputs": []
    },
    {
      "cell_type": "code",
      "metadata": {
        "id": "BHSNfq8phyut",
        "colab": {
          "base_uri": "https://localhost:8080/"
        },
        "outputId": "f146c0c0-d3dd-48a2-ff7f-6691fbadf298"
      },
      "source": [
        " #3. difference between break and continue\n",
        " \n",
        "berries=('cran','straw','rasp','blue')\n",
        "for basket in berries:\n",
        "   print(basket)\n",
        "   if basket=='rasp':\n",
        "      break"
      ],
      "execution_count": null,
      "outputs": [
        {
          "output_type": "stream",
          "name": "stdout",
          "text": [
            "cran\n",
            "straw\n",
            "rasp\n"
          ]
        }
      ]
    },
    {
      "cell_type": "code",
      "metadata": {
        "colab": {
          "base_uri": "https://localhost:8080/"
        },
        "id": "4ZCNi3UbHY5a",
        "outputId": "efab59d8-4141-4f17-cc0b-ee3aca361435"
      },
      "source": [
        "berries=('cran','straw','rasp','blue')\n",
        "for basket in berries:\n",
        "   if basket=='rasp':\n",
        "      continue\n",
        "   print(basket)"
      ],
      "execution_count": null,
      "outputs": [
        {
          "output_type": "stream",
          "text": [
            "cran\n",
            "straw\n",
            "blue\n"
          ],
          "name": "stdout"
        }
      ]
    },
    {
      "cell_type": "code",
      "metadata": {
        "id": "u_9Hu2KANgjE"
      },
      "source": [
        "#4. In a for loop, what is the difference between range(10), range(0, 10), and range(0, 10, 1)?\n",
        " \n",
        " \n",
        "for i in range(10):\n",
        "   print(i)     #prints 0-9 (0 is the default int in python)\n",
        " \n",
        "for i in range(0,10):\n",
        "   print(i)      #prints 0-9\n",
        " \n",
        "for i in range(0,10,1):\n",
        "   print(i)\n",
        " \n",
        "   There is no difference. Output will be 0 to 9 for all the for loop."
      ],
      "execution_count": null,
      "outputs": []
    },
    {
      "cell_type": "code",
      "metadata": {
        "id": "j_YHJ6cVSh1h",
        "colab": {
          "base_uri": "https://localhost:8080/"
        },
        "outputId": "6bebb9f0-53db-4204-ccf0-e37cd80bf884"
      },
      "source": [
        "#5. Using a for loop, write a short programme that prints the numbers 1 to 10 Then, using a while loop, create an identical programme that prints the numbers 1 to 10.\"\n",
        " \n",
        "for num in range(1,11):\n",
        "   print(num)\n",
        " \n",
        "timer=10\n",
        "while timer>=1:\n",
        "   print(timer,end='~')\n",
        "   timer-=1\n",
        "print('kaboom..!!')"
      ],
      "execution_count": null,
      "outputs": [
        {
          "output_type": "stream",
          "text": [
            "1\n",
            "2\n",
            "3\n",
            "4\n",
            "5\n",
            "6\n",
            "7\n",
            "8\n",
            "9\n",
            "10\n",
            "10~9~8~7~6~5~4~3~2~1~kaboom..!!\n"
          ],
          "name": "stdout"
        }
      ]
    },
    {
      "cell_type": "code",
      "metadata": {
        "colab": {
          "base_uri": "https://localhost:8080/"
        },
        "id": "yKs4sFMqbp-C",
        "outputId": "0a417e19-2a85-4cc3-949a-1202e0ecc4a1"
      },
      "source": [
        " \n",
        "#6) Given a number x, determine whether the given number is Armstrong number or not.\n",
        " \n",
        " \n",
        "num = int(input(\"Enter a number: \"))\n",
        "sum = 0\n",
        "temp = num\n",
        "while temp > 0:\n",
        "   digit = temp % 10\n",
        "   sum += digit ** 3\n",
        "   temp //= 10\n",
        "if num == sum:\n",
        "   print(num,\"is an Armstrong number\")\n",
        "else:\n",
        "   print(num,\"is not an Armstrong number\")"
      ],
      "execution_count": null,
      "outputs": [
        {
          "output_type": "stream",
          "text": [
            "Enter a number: 777\n",
            "777 is not an Armstrong number\n"
          ],
          "name": "stdout"
        }
      ]
    },
    {
      "cell_type": "code",
      "metadata": {
        "colab": {
          "base_uri": "https://localhost:8080/"
        },
        "id": "KBUgw2MZddmI",
        "outputId": "bf41be33-50a7-4044-ab46-31ab54206600"
      },
      "source": [
        "#8) Program to Reverse words in a given String in Python.\"\n",
        " \n",
        "platform=('letsupgrade online course')\n",
        "print(len(platform))\n",
        "print(platform[::-1])"
      ],
      "execution_count": null,
      "outputs": [
        {
          "output_type": "stream",
          "text": [
            "25\n",
            "esruoc enilno edargpustel\n"
          ],
          "name": "stdout"
        }
      ]
    },
    {
      "cell_type": "code",
      "metadata": {
        "id": "EzYwm8JUey0h",
        "colab": {
          "base_uri": "https://localhost:8080/",
          "height": 302
        },
        "outputId": "11155e0e-f483-47b8-8c10-795e5c487827"
      },
      "source": [
        "#9. Given a list of numbers, write a Python program to find the sum of all the elements in the list\n",
        "total=0\n",
        "num=[1,2,3,4,5]\n",
        "for n in num:\n",
        "   total+=sum(n)\n",
        "   print('addition of num :',n)"
      ],
      "execution_count": null,
      "outputs": [
        {
          "output_type": "error",
          "ename": "TypeError",
          "evalue": "ignored",
          "traceback": [
            "\u001b[0;31m---------------------------------------------------------------------------\u001b[0m",
            "\u001b[0;31mTypeError\u001b[0m                                 Traceback (most recent call last)",
            "\u001b[0;32m<ipython-input-5-1a627ad44558>\u001b[0m in \u001b[0;36m<module>\u001b[0;34m()\u001b[0m\n\u001b[1;32m      3\u001b[0m \u001b[0mnum\u001b[0m\u001b[0;34m=\u001b[0m\u001b[0;34m[\u001b[0m\u001b[0;36m1\u001b[0m\u001b[0;34m,\u001b[0m\u001b[0;36m2\u001b[0m\u001b[0;34m,\u001b[0m\u001b[0;36m3\u001b[0m\u001b[0;34m,\u001b[0m\u001b[0;36m4\u001b[0m\u001b[0;34m,\u001b[0m\u001b[0;36m5\u001b[0m\u001b[0;34m]\u001b[0m\u001b[0;34m\u001b[0m\u001b[0;34m\u001b[0m\u001b[0m\n\u001b[1;32m      4\u001b[0m \u001b[0;32mfor\u001b[0m \u001b[0mn\u001b[0m \u001b[0;32min\u001b[0m \u001b[0mnum\u001b[0m\u001b[0;34m:\u001b[0m\u001b[0;34m\u001b[0m\u001b[0;34m\u001b[0m\u001b[0m\n\u001b[0;32m----> 5\u001b[0;31m    \u001b[0mtotal\u001b[0m\u001b[0;34m+=\u001b[0m\u001b[0msum\u001b[0m\u001b[0;34m(\u001b[0m\u001b[0mn\u001b[0m\u001b[0;34m)\u001b[0m\u001b[0;34m\u001b[0m\u001b[0;34m\u001b[0m\u001b[0m\n\u001b[0m\u001b[1;32m      6\u001b[0m    \u001b[0mprint\u001b[0m\u001b[0;34m(\u001b[0m\u001b[0;34m'addition of num :'\u001b[0m\u001b[0;34m,\u001b[0m\u001b[0mn\u001b[0m\u001b[0;34m)\u001b[0m\u001b[0;34m\u001b[0m\u001b[0;34m\u001b[0m\u001b[0m\n",
            "\u001b[0;31mTypeError\u001b[0m: 'int' object is not iterable"
          ]
        }
      ]
    },
    {
      "cell_type": "code",
      "metadata": {
        "id": "M3lUO2banrVe"
      },
      "source": [
        ""
      ],
      "execution_count": null,
      "outputs": []
    },
    {
      "cell_type": "code",
      "metadata": {
        "colab": {
          "base_uri": "https://localhost:8080/"
        },
        "id": "c5O6qcfijEow",
        "outputId": "1e764234-ce1e-42a2-c2e1-d60574d888f6"
      },
      "source": [
        "# 10) Write a Python program to print all even numbers between 10-1000.\n",
        " \n",
        "#10-1000\n",
        "for num in range(10,1001,2):\n",
        "   print('even_numbers :',num,end=',')"
      ],
      "execution_count": null,
      "outputs": [
        {
          "output_type": "stream",
          "name": "stdout",
          "text": [
            "even_numbers : 10,even_numbers : 12,even_numbers : 14,even_numbers : 16,even_numbers : 18,even_numbers : 20,even_numbers : 22,even_numbers : 24,even_numbers : 26,even_numbers : 28,even_numbers : 30,even_numbers : 32,even_numbers : 34,even_numbers : 36,even_numbers : 38,even_numbers : 40,even_numbers : 42,even_numbers : 44,even_numbers : 46,even_numbers : 48,even_numbers : 50,even_numbers : 52,even_numbers : 54,even_numbers : 56,even_numbers : 58,even_numbers : 60,even_numbers : 62,even_numbers : 64,even_numbers : 66,even_numbers : 68,even_numbers : 70,even_numbers : 72,even_numbers : 74,even_numbers : 76,even_numbers : 78,even_numbers : 80,even_numbers : 82,even_numbers : 84,even_numbers : 86,even_numbers : 88,even_numbers : 90,even_numbers : 92,even_numbers : 94,even_numbers : 96,even_numbers : 98,even_numbers : 100,even_numbers : 102,even_numbers : 104,even_numbers : 106,even_numbers : 108,even_numbers : 110,even_numbers : 112,even_numbers : 114,even_numbers : 116,even_numbers : 118,even_numbers : 120,even_numbers : 122,even_numbers : 124,even_numbers : 126,even_numbers : 128,even_numbers : 130,even_numbers : 132,even_numbers : 134,even_numbers : 136,even_numbers : 138,even_numbers : 140,even_numbers : 142,even_numbers : 144,even_numbers : 146,even_numbers : 148,even_numbers : 150,even_numbers : 152,even_numbers : 154,even_numbers : 156,even_numbers : 158,even_numbers : 160,even_numbers : 162,even_numbers : 164,even_numbers : 166,even_numbers : 168,even_numbers : 170,even_numbers : 172,even_numbers : 174,even_numbers : 176,even_numbers : 178,even_numbers : 180,even_numbers : 182,even_numbers : 184,even_numbers : 186,even_numbers : 188,even_numbers : 190,even_numbers : 192,even_numbers : 194,even_numbers : 196,even_numbers : 198,even_numbers : 200,even_numbers : 202,even_numbers : 204,even_numbers : 206,even_numbers : 208,even_numbers : 210,even_numbers : 212,even_numbers : 214,even_numbers : 216,even_numbers : 218,even_numbers : 220,even_numbers : 222,even_numbers : 224,even_numbers : 226,even_numbers : 228,even_numbers : 230,even_numbers : 232,even_numbers : 234,even_numbers : 236,even_numbers : 238,even_numbers : 240,even_numbers : 242,even_numbers : 244,even_numbers : 246,even_numbers : 248,even_numbers : 250,even_numbers : 252,even_numbers : 254,even_numbers : 256,even_numbers : 258,even_numbers : 260,even_numbers : 262,even_numbers : 264,even_numbers : 266,even_numbers : 268,even_numbers : 270,even_numbers : 272,even_numbers : 274,even_numbers : 276,even_numbers : 278,even_numbers : 280,even_numbers : 282,even_numbers : 284,even_numbers : 286,even_numbers : 288,even_numbers : 290,even_numbers : 292,even_numbers : 294,even_numbers : 296,even_numbers : 298,even_numbers : 300,even_numbers : 302,even_numbers : 304,even_numbers : 306,even_numbers : 308,even_numbers : 310,even_numbers : 312,even_numbers : 314,even_numbers : 316,even_numbers : 318,even_numbers : 320,even_numbers : 322,even_numbers : 324,even_numbers : 326,even_numbers : 328,even_numbers : 330,even_numbers : 332,even_numbers : 334,even_numbers : 336,even_numbers : 338,even_numbers : 340,even_numbers : 342,even_numbers : 344,even_numbers : 346,even_numbers : 348,even_numbers : 350,even_numbers : 352,even_numbers : 354,even_numbers : 356,even_numbers : 358,even_numbers : 360,even_numbers : 362,even_numbers : 364,even_numbers : 366,even_numbers : 368,even_numbers : 370,even_numbers : 372,even_numbers : 374,even_numbers : 376,even_numbers : 378,even_numbers : 380,even_numbers : 382,even_numbers : 384,even_numbers : 386,even_numbers : 388,even_numbers : 390,even_numbers : 392,even_numbers : 394,even_numbers : 396,even_numbers : 398,even_numbers : 400,even_numbers : 402,even_numbers : 404,even_numbers : 406,even_numbers : 408,even_numbers : 410,even_numbers : 412,even_numbers : 414,even_numbers : 416,even_numbers : 418,even_numbers : 420,even_numbers : 422,even_numbers : 424,even_numbers : 426,even_numbers : 428,even_numbers : 430,even_numbers : 432,even_numbers : 434,even_numbers : 436,even_numbers : 438,even_numbers : 440,even_numbers : 442,even_numbers : 444,even_numbers : 446,even_numbers : 448,even_numbers : 450,even_numbers : 452,even_numbers : 454,even_numbers : 456,even_numbers : 458,even_numbers : 460,even_numbers : 462,even_numbers : 464,even_numbers : 466,even_numbers : 468,even_numbers : 470,even_numbers : 472,even_numbers : 474,even_numbers : 476,even_numbers : 478,even_numbers : 480,even_numbers : 482,even_numbers : 484,even_numbers : 486,even_numbers : 488,even_numbers : 490,even_numbers : 492,even_numbers : 494,even_numbers : 496,even_numbers : 498,even_numbers : 500,even_numbers : 502,even_numbers : 504,even_numbers : 506,even_numbers : 508,even_numbers : 510,even_numbers : 512,even_numbers : 514,even_numbers : 516,even_numbers : 518,even_numbers : 520,even_numbers : 522,even_numbers : 524,even_numbers : 526,even_numbers : 528,even_numbers : 530,even_numbers : 532,even_numbers : 534,even_numbers : 536,even_numbers : 538,even_numbers : 540,even_numbers : 542,even_numbers : 544,even_numbers : 546,even_numbers : 548,even_numbers : 550,even_numbers : 552,even_numbers : 554,even_numbers : 556,even_numbers : 558,even_numbers : 560,even_numbers : 562,even_numbers : 564,even_numbers : 566,even_numbers : 568,even_numbers : 570,even_numbers : 572,even_numbers : 574,even_numbers : 576,even_numbers : 578,even_numbers : 580,even_numbers : 582,even_numbers : 584,even_numbers : 586,even_numbers : 588,even_numbers : 590,even_numbers : 592,even_numbers : 594,even_numbers : 596,even_numbers : 598,even_numbers : 600,even_numbers : 602,even_numbers : 604,even_numbers : 606,even_numbers : 608,even_numbers : 610,even_numbers : 612,even_numbers : 614,even_numbers : 616,even_numbers : 618,even_numbers : 620,even_numbers : 622,even_numbers : 624,even_numbers : 626,even_numbers : 628,even_numbers : 630,even_numbers : 632,even_numbers : 634,even_numbers : 636,even_numbers : 638,even_numbers : 640,even_numbers : 642,even_numbers : 644,even_numbers : 646,even_numbers : 648,even_numbers : 650,even_numbers : 652,even_numbers : 654,even_numbers : 656,even_numbers : 658,even_numbers : 660,even_numbers : 662,even_numbers : 664,even_numbers : 666,even_numbers : 668,even_numbers : 670,even_numbers : 672,even_numbers : 674,even_numbers : 676,even_numbers : 678,even_numbers : 680,even_numbers : 682,even_numbers : 684,even_numbers : 686,even_numbers : 688,even_numbers : 690,even_numbers : 692,even_numbers : 694,even_numbers : 696,even_numbers : 698,even_numbers : 700,even_numbers : 702,even_numbers : 704,even_numbers : 706,even_numbers : 708,even_numbers : 710,even_numbers : 712,even_numbers : 714,even_numbers : 716,even_numbers : 718,even_numbers : 720,even_numbers : 722,even_numbers : 724,even_numbers : 726,even_numbers : 728,even_numbers : 730,even_numbers : 732,even_numbers : 734,even_numbers : 736,even_numbers : 738,even_numbers : 740,even_numbers : 742,even_numbers : 744,even_numbers : 746,even_numbers : 748,even_numbers : 750,even_numbers : 752,even_numbers : 754,even_numbers : 756,even_numbers : 758,even_numbers : 760,even_numbers : 762,even_numbers : 764,even_numbers : 766,even_numbers : 768,even_numbers : 770,even_numbers : 772,even_numbers : 774,even_numbers : 776,even_numbers : 778,even_numbers : 780,even_numbers : 782,even_numbers : 784,even_numbers : 786,even_numbers : 788,even_numbers : 790,even_numbers : 792,even_numbers : 794,even_numbers : 796,even_numbers : 798,even_numbers : 800,even_numbers : 802,even_numbers : 804,even_numbers : 806,even_numbers : 808,even_numbers : 810,even_numbers : 812,even_numbers : 814,even_numbers : 816,even_numbers : 818,even_numbers : 820,even_numbers : 822,even_numbers : 824,even_numbers : 826,even_numbers : 828,even_numbers : 830,even_numbers : 832,even_numbers : 834,even_numbers : 836,even_numbers : 838,even_numbers : 840,even_numbers : 842,even_numbers : 844,even_numbers : 846,even_numbers : 848,even_numbers : 850,even_numbers : 852,even_numbers : 854,even_numbers : 856,even_numbers : 858,even_numbers : 860,even_numbers : 862,even_numbers : 864,even_numbers : 866,even_numbers : 868,even_numbers : 870,even_numbers : 872,even_numbers : 874,even_numbers : 876,even_numbers : 878,even_numbers : 880,even_numbers : 882,even_numbers : 884,even_numbers : 886,even_numbers : 888,even_numbers : 890,even_numbers : 892,even_numbers : 894,even_numbers : 896,even_numbers : 898,even_numbers : 900,even_numbers : 902,even_numbers : 904,even_numbers : 906,even_numbers : 908,even_numbers : 910,even_numbers : 912,even_numbers : 914,even_numbers : 916,even_numbers : 918,even_numbers : 920,even_numbers : 922,even_numbers : 924,even_numbers : 926,even_numbers : 928,even_numbers : 930,even_numbers : 932,even_numbers : 934,even_numbers : 936,even_numbers : 938,even_numbers : 940,even_numbers : 942,even_numbers : 944,even_numbers : 946,even_numbers : 948,even_numbers : 950,even_numbers : 952,even_numbers : 954,even_numbers : 956,even_numbers : 958,even_numbers : 960,even_numbers : 962,even_numbers : 964,even_numbers : 966,even_numbers : 968,even_numbers : 970,even_numbers : 972,even_numbers : 974,even_numbers : 976,even_numbers : 978,even_numbers : 980,even_numbers : 982,even_numbers : 984,even_numbers : 986,even_numbers : 988,even_numbers : 990,even_numbers : 992,even_numbers : 994,even_numbers : 996,even_numbers : 998,even_numbers : 1000,"
          ]
        }
      ]
    },
    {
      "cell_type": "code",
      "metadata": {
        "id": "uH8sXjZIhT2w"
      },
      "source": [
        ""
      ],
      "execution_count": null,
      "outputs": []
    }
  ]
}